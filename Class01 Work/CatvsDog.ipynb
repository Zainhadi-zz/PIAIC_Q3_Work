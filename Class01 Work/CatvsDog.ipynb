{
 "cells": [
  {
   "cell_type": "code",
   "execution_count": 14,
   "metadata": {},
   "outputs": [],
   "source": [
    "import os, shutil"
   ]
  },
  {
   "cell_type": "code",
   "execution_count": 15,
   "metadata": {},
   "outputs": [],
   "source": [
    "original_dataset_dir = r'C:\\Users\\Zack\\Downloads\\PIAIC Q3\\Class01 Work\\original_data'\n"
   ]
  },
  {
   "cell_type": "code",
   "execution_count": 16,
   "metadata": {
    "scrolled": true
   },
   "outputs": [],
   "source": [
    "base_dir = r'C:\\Users\\Zack\\Downloads\\PIAIC Q3\\Class01 Work\\cat_and_dog_smalls'\n",
    "os.mkdir(base_dir)"
   ]
  },
  {
   "cell_type": "code",
   "execution_count": 17,
   "metadata": {},
   "outputs": [],
   "source": [
    "train_dir = os.path.join(base_dir, 'train')\n",
    "os.mkdir(train_dir)\n",
    "validation_dir = os.path.join(base_dir, 'validation')\n",
    "os.mkdir(validation_dir)\n",
    "test_dir = os.path.join(base_dir, 'test')\n",
    "os.mkdir(test_dir)"
   ]
  },
  {
   "cell_type": "code",
   "execution_count": 18,
   "metadata": {},
   "outputs": [],
   "source": [
    "train_cats_dir = os.path.join(train_dir, 'cats')\n",
    "os.mkdir(train_cats_dir)"
   ]
  },
  {
   "cell_type": "code",
   "execution_count": 19,
   "metadata": {},
   "outputs": [],
   "source": [
    "train_dogs_dir = os.path.join(train_dir, 'dogs')\n",
    "os.mkdir(train_dogs_dir)"
   ]
  },
  {
   "cell_type": "code",
   "execution_count": 20,
   "metadata": {},
   "outputs": [],
   "source": [
    "validation_cats_dir = os.path.join(validation_dir, 'cats')\n",
    "os.mkdir(validation_cats_dir)"
   ]
  },
  {
   "cell_type": "code",
   "execution_count": 21,
   "metadata": {},
   "outputs": [],
   "source": [
    "validation_dogs_dir = os.path.join(validation_dir, 'dogs')\n",
    "os.mkdir(validation_dogs_dir)\n"
   ]
  },
  {
   "cell_type": "code",
   "execution_count": 22,
   "metadata": {},
   "outputs": [],
   "source": [
    "test_cats_dir = os.path.join(test_dir, 'cats')\n",
    "os.mkdir(test_cats_dir)\n",
    "test_dogs_dir = os.path.join(test_dir, 'dogs')\n",
    "os.mkdir(test_dogs_dir)"
   ]
  },
  {
   "cell_type": "code",
   "execution_count": 23,
   "metadata": {},
   "outputs": [],
   "source": [
    "fnames = ['cat.{}.jpg'.format(i) for i in range(1000)]\n",
    "for fname in fnames:\n",
    "    src = os.path.join(original_dataset_dir, fname)\n",
    "    dst = os.path.join(train_cats_dir, fname)\n",
    "    shutil.copyfile(src, dst)"
   ]
  },
  {
   "cell_type": "code",
   "execution_count": 24,
   "metadata": {},
   "outputs": [],
   "source": [
    "fnames = ['cat.{}.jpg'.format(i) for i in range(1000, 1500)]\n",
    "for fname in fnames:\n",
    "    src = os.path.join(original_dataset_dir, fname)\n",
    "    dst = os.path.join(validation_cats_dir, fname)\n",
    "    shutil.copyfile(src, dst)"
   ]
  },
  {
   "cell_type": "code",
   "execution_count": 25,
   "metadata": {},
   "outputs": [],
   "source": [
    "fnames = ['cat.{}.jpg'.format(i) for i in range(1500, 2000)]\n",
    "for fname in fnames:\n",
    "    src = os.path.join(original_dataset_dir, fname)\n",
    "    dst = os.path.join(test_cats_dir, fname)\n",
    "    shutil.copyfile(src, dst)"
   ]
  },
  {
   "cell_type": "code",
   "execution_count": 26,
   "metadata": {},
   "outputs": [],
   "source": [
    "fnames = ['dog.{}.jpg'.format(i) for i in range(1000)]\n",
    "for fname in fnames:\n",
    "    src = os.path.join(original_dataset_dir, fname)\n",
    "    dst = os.path.join(train_dogs_dir, fname)\n",
    "    shutil.copyfile(src, dst)\n",
    "fnames = ['dog.{}.jpg'.format(i) for i in range(1000, 1500)]\n",
    "for fname in fnames:\n",
    "    src = os.path.join(original_dataset_dir, fname)\n",
    "    dst = os.path.join(validation_dogs_dir, fname)\n",
    "    shutil.copyfile(src, dst)\n",
    "fnames = ['dog.{}.jpg'.format(i) for i in range(1500, 2000)]\n",
    "for fname in fnames:\n",
    "    src = os.path.join(original_dataset_dir, fname)\n",
    "    dst = os.path.join(test_dogs_dir, fname)\n",
    "    shutil.copyfile(src, dst)"
   ]
  },
  {
   "cell_type": "code",
   "execution_count": 27,
   "metadata": {},
   "outputs": [
    {
     "name": "stdout",
     "output_type": "stream",
     "text": [
      "total training cat images: 1000\n"
     ]
    }
   ],
   "source": [
    "print('total training cat images:', len(os.listdir(train_cats_dir)))"
   ]
  },
  {
   "cell_type": "code",
   "execution_count": 28,
   "metadata": {},
   "outputs": [],
   "source": [
    "from keras import layers\n",
    "from keras import models\n",
    "model = models.Sequential()\n",
    "model.add(layers.Conv2D(32, (3, 3), activation='relu',\n",
    "input_shape=(150, 150, 3)))\n",
    "model.add(layers.MaxPooling2D((2, 2)))\n",
    "model.add(layers.Conv2D(64, (3, 3), activation='relu'))\n",
    "model.add(layers.MaxPooling2D((2, 2)))\n",
    "model.add(layers.Conv2D(128, (3, 3), activation='relu'))\n",
    "model.add(layers.MaxPooling2D((2, 2)))\n",
    "model.add(layers.Conv2D(128, (3, 3), activation='relu'))\n",
    "model.add(layers.MaxPooling2D((2, 2)))\n",
    "model.add(layers.Flatten())\n",
    "model.add(layers.Dense(512, activation='relu'))\n",
    "model.add(layers.Dense(1, activation='sigmoid'))"
   ]
  },
  {
   "cell_type": "code",
   "execution_count": 29,
   "metadata": {},
   "outputs": [],
   "source": [
    "from keras import optimizers\n",
    "model.compile(loss='binary_crossentropy',\n",
    "optimizer=optimizers.RMSprop(lr=1e-4),\n",
    "metrics=['acc'])"
   ]
  },
  {
   "cell_type": "code",
   "execution_count": 30,
   "metadata": {},
   "outputs": [
    {
     "name": "stdout",
     "output_type": "stream",
     "text": [
      "Found 2000 images belonging to 2 classes.\n",
      "Found 1000 images belonging to 2 classes.\n"
     ]
    }
   ],
   "source": [
    "from keras.preprocessing.image import ImageDataGenerator\n",
    "train_datagen = ImageDataGenerator(rescale=1./255)\n",
    "test_datagen = ImageDataGenerator(rescale=1./255)\n",
    "train_generator = train_datagen.flow_from_directory(\n",
    "train_dir,\n",
    "target_size=(150, 150),\n",
    "batch_size=20,\n",
    "class_mode='binary')\n",
    "validation_generator = test_datagen.flow_from_directory(\n",
    "validation_dir,target_size=(150, 150),\n",
    "batch_size=20,\n",
    "class_mode='binary')"
   ]
  },
  {
   "cell_type": "code",
   "execution_count": 32,
   "metadata": {},
   "outputs": [
    {
     "name": "stdout",
     "output_type": "stream",
     "text": [
      "data batch shape: (20, 150, 150, 3)\n",
      "labels batch shape: (20,)\n"
     ]
    }
   ],
   "source": [
    "for data_batch, labels_batch in train_generator:\n",
    "    print('data batch shape:', data_batch.shape)\n",
    "    print('labels batch shape:', labels_batch.shape)\n",
    "    break\n"
   ]
  },
  {
   "cell_type": "code",
   "execution_count": 33,
   "metadata": {},
   "outputs": [
    {
     "name": "stdout",
     "output_type": "stream",
     "text": [
      "WARNING:tensorflow:From <ipython-input-33-f61a1535c537>:1: Model.fit_generator (from tensorflow.python.keras.engine.training) is deprecated and will be removed in a future version.\n",
      "Instructions for updating:\n",
      "Please use Model.fit, which supports generators.\n",
      "Epoch 1/30\n",
      "100/100 [==============================] - 118s 1s/step - loss: 0.6880 - acc: 0.5440 - val_loss: 0.6782 - val_acc: 0.5610\n",
      "Epoch 2/30\n",
      "100/100 [==============================] - 134s 1s/step - loss: 0.6548 - acc: 0.6025 - val_loss: 0.6890 - val_acc: 0.5180\n",
      "Epoch 3/30\n",
      "100/100 [==============================] - 145s 1s/step - loss: 0.6024 - acc: 0.6770 - val_loss: 0.6806 - val_acc: 0.5630\n",
      "Epoch 4/30\n",
      "100/100 [==============================] - 117s 1s/step - loss: 0.5640 - acc: 0.7015 - val_loss: 0.6011 - val_acc: 0.6760\n",
      "Epoch 5/30\n",
      "100/100 [==============================] - 121s 1s/step - loss: 0.5317 - acc: 0.7350 - val_loss: 0.5891 - val_acc: 0.6770\n",
      "Epoch 6/30\n",
      "100/100 [==============================] - 107s 1s/step - loss: 0.5065 - acc: 0.7545 - val_loss: 0.6053 - val_acc: 0.6560\n",
      "Epoch 7/30\n",
      "100/100 [==============================] - 107s 1s/step - loss: 0.4768 - acc: 0.7725 - val_loss: 0.5634 - val_acc: 0.7000\n",
      "Epoch 8/30\n",
      "100/100 [==============================] - 98s 984ms/step - loss: 0.4501 - acc: 0.7890 - val_loss: 0.5531 - val_acc: 0.7220\n",
      "Epoch 9/30\n",
      "100/100 [==============================] - 97s 974ms/step - loss: 0.4214 - acc: 0.8025 - val_loss: 0.5691 - val_acc: 0.7050\n",
      "Epoch 10/30\n",
      "100/100 [==============================] - 96s 963ms/step - loss: 0.4033 - acc: 0.8235 - val_loss: 0.5801 - val_acc: 0.6980\n",
      "Epoch 11/30\n",
      "100/100 [==============================] - 97s 969ms/step - loss: 0.3726 - acc: 0.8345 - val_loss: 0.5553 - val_acc: 0.7080\n",
      "Epoch 12/30\n",
      "100/100 [==============================] - 97s 968ms/step - loss: 0.3432 - acc: 0.8530 - val_loss: 0.5909 - val_acc: 0.7120\n",
      "Epoch 13/30\n",
      "100/100 [==============================] - 97s 968ms/step - loss: 0.3308 - acc: 0.8550 - val_loss: 0.5771 - val_acc: 0.7250\n",
      "Epoch 14/30\n",
      "100/100 [==============================] - 100s 998ms/step - loss: 0.3000 - acc: 0.8780 - val_loss: 0.5815 - val_acc: 0.7300\n",
      "Epoch 15/30\n",
      "100/100 [==============================] - 100s 996ms/step - loss: 0.2843 - acc: 0.8835 - val_loss: 0.6416 - val_acc: 0.7150\n",
      "Epoch 16/30\n",
      "100/100 [==============================] - 97s 971ms/step - loss: 0.2583 - acc: 0.8980 - val_loss: 0.5990 - val_acc: 0.7400\n",
      "Epoch 17/30\n",
      "100/100 [==============================] - 98s 977ms/step - loss: 0.2377 - acc: 0.9060 - val_loss: 0.6146 - val_acc: 0.7220\n",
      "Epoch 18/30\n",
      "100/100 [==============================] - 100s 996ms/step - loss: 0.2110 - acc: 0.9170 - val_loss: 0.6350 - val_acc: 0.7350\n",
      "Epoch 19/30\n",
      "100/100 [==============================] - 97s 975ms/step - loss: 0.1966 - acc: 0.9235 - val_loss: 0.7549 - val_acc: 0.7120\n",
      "Epoch 20/30\n",
      "100/100 [==============================] - 97s 971ms/step - loss: 0.1811 - acc: 0.9305 - val_loss: 0.6565 - val_acc: 0.7350\n",
      "Epoch 21/30\n",
      "100/100 [==============================] - 97s 973ms/step - loss: 0.1620 - acc: 0.9405 - val_loss: 0.6594 - val_acc: 0.7490\n",
      "Epoch 22/30\n",
      "100/100 [==============================] - 97s 974ms/step - loss: 0.1395 - acc: 0.9530 - val_loss: 0.7177 - val_acc: 0.7190\n",
      "Epoch 23/30\n",
      "100/100 [==============================] - 104s 1s/step - loss: 0.1203 - acc: 0.9610 - val_loss: 0.7750 - val_acc: 0.7260\n",
      "Epoch 24/30\n",
      "100/100 [==============================] - 106s 1s/step - loss: 0.1069 - acc: 0.9690 - val_loss: 0.7362 - val_acc: 0.7310\n",
      "Epoch 25/30\n",
      "100/100 [==============================] - 98s 982ms/step - loss: 0.0964 - acc: 0.9695 - val_loss: 0.8942 - val_acc: 0.7050\n",
      "Epoch 26/30\n",
      "100/100 [==============================] - 98s 979ms/step - loss: 0.0820 - acc: 0.9755 - val_loss: 0.8882 - val_acc: 0.7060\n",
      "Epoch 27/30\n",
      "100/100 [==============================] - 99s 991ms/step - loss: 0.0691 - acc: 0.9830 - val_loss: 1.0930 - val_acc: 0.6920\n",
      "Epoch 28/30\n",
      "100/100 [==============================] - 98s 979ms/step - loss: 0.0526 - acc: 0.9855 - val_loss: 0.9393 - val_acc: 0.7390\n",
      "Epoch 29/30\n",
      "100/100 [==============================] - 98s 980ms/step - loss: 0.0518 - acc: 0.9855 - val_loss: 1.1002 - val_acc: 0.7050\n",
      "Epoch 30/30\n",
      "100/100 [==============================] - 98s 977ms/step - loss: 0.0469 - acc: 0.9865 - val_loss: 1.0079 - val_acc: 0.7330\n"
     ]
    }
   ],
   "source": [
    "history = model.fit_generator(\n",
    "train_generator,\n",
    "steps_per_epoch=100,\n",
    "epochs=30,\n",
    "validation_data=validation_generator,\n",
    "validation_steps=50)"
   ]
  },
  {
   "cell_type": "code",
   "execution_count": 34,
   "metadata": {},
   "outputs": [
    {
     "data": {
      "image/png": "[encoded data removed]",
      "text/plain": [
       "<Figure size 432x288 with 1 Axes>"
      ]
     },
     "metadata": {
      "needs_background": "light"
     },
     "output_type": "display_data"
    },
    {
     "data": {
      "image/png": "[encoded data removed]",
      "text/plain": [
       "<Figure size 432x288 with 1 Axes>"
      ]
     },
     "metadata": {
      "needs_background": "light"
     },
     "output_type": "display_data"
    }
   ],
   "source": [
    "import matplotlib.pyplot as plt\n",
    "acc = history.history['acc']\n",
    "val_acc = history.history['val_acc']\n",
    "loss = history.history['loss']\n",
    "val_loss = history.history['val_loss']\n",
    "epochs = range(1, len(acc) + 1)\n",
    "plt.plot(epochs, acc, 'bo', label='Training acc')\n",
    "plt.plot(epochs, val_acc, 'b', label='Validation acc')\n",
    "plt.title('Training and validation accuracy')\n",
    "plt.legend()\n",
    "plt.figure()\n",
    "plt.plot(epochs, loss, 'bo', label='Training loss')\n",
    "plt.plot(epochs, val_loss, 'b', label='Validation loss')\n",
    "plt.title('Training and validation loss')\n",
    "plt.legend()\n",
    "plt.show()"
   ]
  },
  {
   "cell_type": "code",
   "execution_count": null,
   "metadata": {},
   "outputs": [],
   "source": []
  }
 ],
 "metadata": {
  "kernelspec": {
   "display_name": "Python 3",
   "language": "python",
   "name": "python3"
  },
  "language_info": {
   "codemirror_mode": {
    "name": "ipython",
    "version": 3
   },
   "file_extension": ".py",
   "mimetype": "text/x-python",
   "name": "python",
   "nbconvert_exporter": "python",
   "pygments_lexer": "ipython3",
   "version": "3.8.8"
  }
 },
 "nbformat": 4,
 "nbformat_minor": 4
}
